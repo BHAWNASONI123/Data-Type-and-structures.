{
  "nbformat": 4,
  "nbformat_minor": 0,
  "metadata": {
    "colab": {
      "provenance": []
    },
    "kernelspec": {
      "name": "python3",
      "display_name": "Python 3"
    },
    "language_info": {
      "name": "python"
    }
  },
  "cells": [
    {
      "cell_type": "markdown",
      "source": [
        "# Data Types and Structures Questions\n",
        "\n"
      ],
      "metadata": {
        "id": "61YfbkeOLj9G"
      }
    },
    {
      "cell_type": "code",
      "source": [
        "#Q1.What are data structures, and why are they important?\n",
        "#Ans.# What is a Dictionary?\n",
        "# In Python dictionaries are written with curly brackets, and they have keys and values.\n",
        "# A dictionary is a collection which is ordered, changeable and indexed.\n",
        "# A dictionary in Python is a collection of key-value pairs.\n",
        "# >Keys are unique and immutable (e.g., strings, numbers, tuples)\n",
        "# >Values can be of any type\n",
        "#Data structures are important in Python because they optimize the storage, retrieval, and manipulation of data, improving performance, memory usage, and code readability."
      ],
      "metadata": {
        "id": "C5Jg8DAdLusq"
      },
      "execution_count": null,
      "outputs": []
    },
    {
      "cell_type": "code",
      "source": [
        "#Q2. Explain the difference between mutable and immutable data types with examples.\n",
        "#Ans. Mutable data types can be changed after creation (e.g., lists, dictionaries, sets), while immutable data types cannot be modified once created (e.g., tuples, strings, integers)."
      ],
      "metadata": {
        "id": "Wp0XoIJhQGCP"
      },
      "execution_count": null,
      "outputs": []
    },
    {
      "cell_type": "code",
      "source": [
        "# #Q3. What are the main differences between lists and tuples in Python.\n",
        "# #Ans. The main differences between lists and tuples in Python are:\n",
        "# Mutability:\n",
        "# Lists are mutable (can be changed after creation).\n",
        "# Tuples are immutable (cannot be modified once created).\n",
        "# Syntax:\n",
        "# Lists use square brackets: [1, 2, 3].\n",
        "# Tuples use parentheses: (1, 2, 3).\n",
        "# Performance:\n",
        "# Tuples are generally faster than lists due to their immutability.\n",
        "# Use cases:\n",
        "# Use lists when you need to modify the data.\n",
        "# Use tuples for fixed, unchangeable data."
      ],
      "metadata": {
        "id": "9BZT2TUrQaux"
      },
      "execution_count": null,
      "outputs": []
    },
    {
      "cell_type": "code",
      "source": [
        "#Q4. Describe how dictionaries store data.\n",
        "#Ans.Dictionaries in Python store data as key-value pairs. Each key is unique, and it maps to a specific value. Data is accessed using the key, providing fast lookups."
      ],
      "metadata": {
        "id": "QS1Ew201Q5YO"
      },
      "execution_count": null,
      "outputs": []
    },
    {
      "cell_type": "code",
      "source": [
        "#Q5.   Why might you use a set instead of a list in Python.\n",
        "#Ans. You might use a set instead of a list in Python for these reasons:\n",
        "\n",
        "# Uniqueness: Sets automatically remove duplicates, ensuring that only unique elements are stored.\n",
        "# Example: {1, 2, 3} won’t have repeated values like [1, 2, 2, 3].\n",
        "# Faster Membership Testing: Checking if an element exists in a set is much faster (average O(1) time complexity) than in a list (O(n) time complexity).\n",
        "# Example: if 3 in my_set:\n",
        "# Set Operations: Sets support efficient mathematical operations like union, intersection, and difference.\n",
        "# Example: set1 & set2 for intersection.\n",
        "# Unordered: If order doesn't matter and you only care about membership or uniqueness, sets can be a cleaner, more efficient choice."
      ],
      "metadata": {
        "id": "3XAap1xDRL8I"
      },
      "execution_count": null,
      "outputs": []
    },
    {
      "cell_type": "code",
      "source": [
        "#Q6. What is a string in Python, and how is it different from a list.\n",
        "#Ans. A string in Python is an immutable sequence of characters, used for text, while a list is a mutable collection that can store any type of data, including other lists or strings."
      ],
      "metadata": {
        "id": "gOF7LwKORyoQ"
      },
      "execution_count": null,
      "outputs": []
    },
    {
      "cell_type": "code",
      "source": [
        "#Q7.  How do tuples ensure data integrity in Python.\n",
        "#Ans. Tuples ensure data integrity in Python by being immutable, meaning their elements cannot be altered once created, protecting the data from accidental modifications."
      ],
      "metadata": {
        "id": "gL9yKVFbSQR4"
      },
      "execution_count": null,
      "outputs": []
    },
    {
      "cell_type": "code",
      "source": [
        "#8.What is a hash table, and how does it relate to dictionaries in Python.\n",
        "#Ans.  hash table is a data structure that stores key-value pairs using a hash function for fast lookups. In Python, dictionaries are implemented as hash tables, allowing for efficient key-based access to values."
      ],
      "metadata": {
        "id": "Iins3jmsSuz3"
      },
      "execution_count": null,
      "outputs": []
    },
    {
      "cell_type": "code",
      "source": [
        "#Q9. Can lists contain different data types in Python.\n",
        "# Ans. Yes, lists in Python can contain different data types, such as integers, strings, and objects, all in the same list."
      ],
      "metadata": {
        "id": "NCXFXv2ETBeF"
      },
      "execution_count": null,
      "outputs": []
    },
    {
      "cell_type": "code",
      "source": [
        "#10. Explain why strings are immutable in Python.\n",
        "# Ans. Strings are immutable in Python to ensure efficiency, security, and performance. Since strings are frequently used and can be large, making them immutable allows Python to optimize memory usage by reusing string objects, avoiding unnecessary copies. It also ensures that string data remains unchanged, preventing unintended side effects in code."
      ],
      "metadata": {
        "id": "PwkcIvIGTgu0"
      },
      "execution_count": null,
      "outputs": []
    },
    {
      "cell_type": "code",
      "source": [
        "#Q11.What advantages do dictionaries offer over lists for certain tasks.\n",
        "# Ans.dictionaries are great when you need fast access and a meaningful mapping between data, while lists are better for ordered collections."
      ],
      "metadata": {
        "id": "h8SPyuLvT0e1"
      },
      "execution_count": null,
      "outputs": []
    },
    {
      "cell_type": "code",
      "source": [
        "#Q12.  Describe a scenario where using a tuple would be preferable over a list.\n",
        "# Ans. A tuple is preferable over a list when you need immutable data that should not change throughout the program. For example:\n",
        "\n",
        "# Scenario: Storing coordinates for a location, like (latitude, longitude). You want to ensure the values remain constant because modifying coordinates could lead to incorrect data or bugs.\n",
        "# location = (40.7128, -74.0060)  # New York City coordinates\n",
        "# Since the tuple is immutable, the coordinates can't accidentally be modified, ensuring data integrity."
      ],
      "metadata": {
        "id": "lH1sCL1iVTbI"
      },
      "execution_count": 2,
      "outputs": []
    },
    {
      "cell_type": "code",
      "source": [
        "#Q13. How do sets handle duplicate values in Python.\n",
        "#Ans.sets automatically eliminate duplicates in Python. If you try to add a duplicate value to a set, it will not be added again, ensuring that each element in the set is unique.\n",
        "# Example:\n",
        "# python\n",
        "# Copy\n",
        "# my_set = {1, 2, 3, 3, 4}\n",
        "# print(my_set)  # Output: {1, 2, 3, 4}  # Duplicates (3) are removed"
      ],
      "metadata": {
        "id": "sTNkSJ_-V8gr"
      },
      "execution_count": null,
      "outputs": []
    },
    {
      "cell_type": "code",
      "source": [
        "#Q14. How does the “in” keyword work differently for lists and dictionaries3\n",
        "#Ans. For dictionaries, in is used to check the existence of a key, while in lists, it's used to check if an element exists."
      ],
      "metadata": {
        "id": "Y7qFl0yLV8dC"
      },
      "execution_count": null,
      "outputs": []
    },
    {
      "cell_type": "code",
      "source": [
        "#Q15. Can you modify the elements of a tuple? Explain why or why not.\n",
        "# Ans. No, you cannot modify the elements of a tuple in Python because tuples are immutable. Once a tuple is created, its contents cannot be changed, added, or removed."
      ],
      "metadata": {
        "id": "K2hXY29fXBAt"
      },
      "execution_count": null,
      "outputs": []
    },
    {
      "cell_type": "code",
      "source": [
        "#16. What is a nested dictionary, and give an example of its use case.\n",
        "# Ans.A nested dictionary is a dictionary where the values themselves can be another dictionary, allowing for a hierarchical structure. This is useful when you need to represent complex data that involves multiple levels of keys and values.\n",
        "#Consider a scenario where you need to store information about students in a school, including their grades in different subjects.\n",
        "#Example:\n",
        "# students = {\n",
        "#     \"Alice\": {\"math\": 90, \"science\": 85, \"history\": 88},\n",
        "#     \"Bob\": {\"math\": 78, \"science\": 82, \"history\": 91},\n",
        "#     \"Charlie\": {\"math\": 92, \"science\": 89, \"history\": 84}\n",
        "# }\n",
        "\n",
        "# # Accessing a student's grade in a specific subject\n",
        "# print(students[\"Alice\"][\"math\"])  # Output: 90\n",
        "# In this example, the outer dictionary holds student names as keys, and the values are dictionaries containing the student's grades in different subjects. This structure allows you to store and easily retrieve complex, multi-level data."
      ],
      "metadata": {
        "id": "QBxa6tyZXkRf"
      },
      "execution_count": null,
      "outputs": []
    },
    {
      "cell_type": "code",
      "source": [
        "#Q17.Describe the time complexity of accessing elements in a dictionary.\n",
        "#Ans. Accessing elements in a Python dictionary has an average time complexity of O(1) due to its use of hash tables for fast key lookups."
      ],
      "metadata": {
        "id": "zAkslpcJYJ7K"
      },
      "execution_count": null,
      "outputs": []
    },
    {
      "cell_type": "code",
      "source": [
        "#Q18.In what situations are lists preferred over dictionaries3\n",
        "#Ans.Lists are preferred over dictionaries when:\n",
        "# Order matters: Lists maintain the order of elements, making them ideal when the sequence of items is important.\n",
        "# Indexed access: If you need to access elements by their position (index) rather than a unique key.\n",
        "# Simple collections: When you just need a collection of items, without the need for key-value pairs, like storing numbers or strings in sequence.\n",
        "# Iterating over elements: If you need to iterate over all elements in a specific order."
      ],
      "metadata": {
        "id": "r42spfZPaEt9"
      },
      "execution_count": null,
      "outputs": []
    },
    {
      "cell_type": "code",
      "source": [
        "#Q19. Why are dictionaries considered unordered, and how does that affect data retrieval.\n",
        "#Ans. Dictionaries are considered unordered (prior to Python 3.7) because the order of key-value pairs is not guaranteed. From Python 3.7 onwards, they maintain insertion order, but this doesn't affect retrieval speed, which remains O(1)."
      ],
      "metadata": {
        "id": "2DbGQ_yzazUY"
      },
      "execution_count": null,
      "outputs": []
    },
    {
      "cell_type": "code",
      "source": [
        "#Q20.Explain the difference between a list and a dictionary in terms of data retrieval.\n",
        "#Ans. The main difference between a list and a dictionary in terms of data retrieval is:\n",
        "# List: Data is accessed by index (position), and elements are retrieved in a sequential order.\n",
        "# Example: my_list[2] retrieves the third element.\n",
        "# Dictionary: Data is accessed by key, and retrieval is based on the key-value pair.\n",
        "# Example: my_dict[\"key\"] retrieves the value associated with \"key\".\n",
        "# In short, lists use indices for access, while dictionaries use keys for fast, direct access to values."
      ],
      "metadata": {
        "id": "FIS-5A2Nbbpv"
      },
      "execution_count": null,
      "outputs": []
    },
    {
      "cell_type": "markdown",
      "source": [
        "# Practical Questions\n"
      ],
      "metadata": {
        "id": "JR1ITLL6bvie"
      }
    },
    {
      "cell_type": "code",
      "source": [
        "#1.Write a code to create a string with your name and print it.\n",
        "print(\"Bhawna\")"
      ],
      "metadata": {
        "colab": {
          "base_uri": "https://localhost:8080/"
        },
        "id": "Qg72Mzggb2yc",
        "outputId": "ab543eb7-bd17-4512-a348-4019519f2a47"
      },
      "execution_count": 3,
      "outputs": [
        {
          "output_type": "stream",
          "name": "stdout",
          "text": [
            "Bhawna\n"
          ]
        }
      ]
    },
    {
      "cell_type": "code",
      "source": [
        "#2.  Write a code to find the length of the string \"Hello World\".\n",
        "string=\"Hello world\"\n",
        "print(len(string))"
      ],
      "metadata": {
        "colab": {
          "base_uri": "https://localhost:8080/"
        },
        "id": "SK-lAj8yhlOZ",
        "outputId": "b7ea4b47-baf7-44e0-a2ca-77c3f46bbd53"
      },
      "execution_count": 5,
      "outputs": [
        {
          "output_type": "stream",
          "name": "stdout",
          "text": [
            "11\n"
          ]
        }
      ]
    },
    {
      "cell_type": "code",
      "source": [
        "#3. Write a code to slice the first 3 characters from the string \"Python Programming\".\n",
        "string=\"python programming\"\n",
        "Slice = string[0:3]\n",
        "print(Slice)"
      ],
      "metadata": {
        "colab": {
          "base_uri": "https://localhost:8080/"
        },
        "id": "-pymCwuciEYz",
        "outputId": "e252726f-f221-4ae4-86d2-6add9eec70fa"
      },
      "execution_count": 6,
      "outputs": [
        {
          "output_type": "stream",
          "name": "stdout",
          "text": [
            "pyt\n"
          ]
        }
      ]
    },
    {
      "cell_type": "code",
      "source": [
        "#4. Write a code to convert the string \"hello\" to uppercase.\n",
        "string=\"hello\"\n",
        "print(string.upper())"
      ],
      "metadata": {
        "colab": {
          "base_uri": "https://localhost:8080/"
        },
        "id": "qunNglfeir1o",
        "outputId": "6333e1b4-94ff-4405-cd54-bda73915013b"
      },
      "execution_count": 7,
      "outputs": [
        {
          "output_type": "stream",
          "name": "stdout",
          "text": [
            "HELLO\n"
          ]
        }
      ]
    },
    {
      "cell_type": "code",
      "source": [
        "#5. Write a code to replace the word \"apple\" with \"orange\" in the string \"I like apple\"\n",
        "string=\"I like apple\"\n",
        "print(string.replace(\"apple\",\"orange\"))"
      ],
      "metadata": {
        "colab": {
          "base_uri": "https://localhost:8080/"
        },
        "id": "AN-TscA-i2aU",
        "outputId": "3ce4ecc1-7abf-4d82-e996-346324be5011"
      },
      "execution_count": 8,
      "outputs": [
        {
          "output_type": "stream",
          "name": "stdout",
          "text": [
            "I like orange\n"
          ]
        }
      ]
    },
    {
      "cell_type": "code",
      "source": [
        "#6. Write a code to create a list with numbers 1 to 5 and print it.\n",
        "list=[1,2,3,4,5]\n",
        "print(list)\n"
      ],
      "metadata": {
        "colab": {
          "base_uri": "https://localhost:8080/"
        },
        "id": "4FL9vQJ4jDP5",
        "outputId": "df339e09-ba58-491d-aa91-88ce373b2318"
      },
      "execution_count": 9,
      "outputs": [
        {
          "output_type": "stream",
          "name": "stdout",
          "text": [
            "[1, 2, 3, 4, 5]\n"
          ]
        }
      ]
    },
    {
      "cell_type": "code",
      "source": [
        "#7.Write a code to append the number 10 to the list [1, 2, 3, 4]\n",
        "list=[1,2,3,4]\n",
        "list.append(10)\n",
        "print(list)"
      ],
      "metadata": {
        "colab": {
          "base_uri": "https://localhost:8080/"
        },
        "id": "T7-wPg9zjM8b",
        "outputId": "e28ed567-b8ce-4cdb-f5bc-4aad8af49ab4"
      },
      "execution_count": 10,
      "outputs": [
        {
          "output_type": "stream",
          "name": "stdout",
          "text": [
            "[1, 2, 3, 4, 10]\n"
          ]
        }
      ]
    },
    {
      "cell_type": "code",
      "source": [
        "#8. Write a code to remove the number 3 from the list [1, 2, 3, 4, 5]\n",
        "list=[1,2,3,4,5]\n",
        "list.remove(3)\n",
        "print(list)"
      ],
      "metadata": {
        "colab": {
          "base_uri": "https://localhost:8080/"
        },
        "id": "udTyTxDPjXZt",
        "outputId": "4e260e99-97e4-4943-e409-013c54c0e890"
      },
      "execution_count": 11,
      "outputs": [
        {
          "output_type": "stream",
          "name": "stdout",
          "text": [
            "[1, 2, 4, 5]\n"
          ]
        }
      ]
    },
    {
      "cell_type": "code",
      "source": [
        "#9.Write a code to access the second element in the list ['a', 'b', 'c', 'd']\n",
        "list=['a', 'b','c','d']\n",
        "print(list[1])"
      ],
      "metadata": {
        "colab": {
          "base_uri": "https://localhost:8080/"
        },
        "id": "xzcvysNijvXO",
        "outputId": "77231690-76b1-4781-cbbd-d0d5fb975a4d"
      },
      "execution_count": 13,
      "outputs": [
        {
          "output_type": "stream",
          "name": "stdout",
          "text": [
            "b\n"
          ]
        }
      ]
    },
    {
      "cell_type": "code",
      "source": [
        "#10. Write a code to reverse the list [10, 20, 30, 40, 50].\n",
        "list=[10,20,30,40,50]\n",
        "list.reverse()\n",
        "print(list)"
      ],
      "metadata": {
        "colab": {
          "base_uri": "https://localhost:8080/"
        },
        "id": "6K08DkEOmXXe",
        "outputId": "e6dd878a-cea7-4b4d-a73f-ca439b6a37fa"
      },
      "execution_count": 14,
      "outputs": [
        {
          "output_type": "stream",
          "name": "stdout",
          "text": [
            "[50, 40, 30, 20, 10]\n"
          ]
        }
      ]
    },
    {
      "cell_type": "code",
      "source": [
        "#11. Write a code to create a tuple with the elements 100, 200, 300 and print it.\n",
        "tuple=(100,200,300)\n",
        "print(tuple)"
      ],
      "metadata": {
        "colab": {
          "base_uri": "https://localhost:8080/"
        },
        "id": "PsLVbb8mmlnr",
        "outputId": "a3e4ac01-1f28-4039-83cf-1358c017af5d"
      },
      "execution_count": 15,
      "outputs": [
        {
          "output_type": "stream",
          "name": "stdout",
          "text": [
            "(100, 200, 300)\n"
          ]
        }
      ]
    },
    {
      "cell_type": "code",
      "source": [
        "#12.Write a code to access the second-to-last element of the tuple ('red', 'green', 'blue', 'yellow').\n",
        "tuple=('red', 'green', 'blue', 'yellow')\n",
        "print(tuple[-2])\n"
      ],
      "metadata": {
        "colab": {
          "base_uri": "https://localhost:8080/"
        },
        "id": "tC--h_7tm0US",
        "outputId": "65a05ebd-904d-469c-bb96-5e90d824c869"
      },
      "execution_count": 17,
      "outputs": [
        {
          "output_type": "stream",
          "name": "stdout",
          "text": [
            "blue\n"
          ]
        }
      ]
    },
    {
      "cell_type": "code",
      "source": [
        "#13.  Write a code to find the minimum number in the tuple (10, 20, 5, 15).\n",
        "tuple=(10,20,5,15)\n",
        "print(min(tuple))"
      ],
      "metadata": {
        "colab": {
          "base_uri": "https://localhost:8080/"
        },
        "id": "YxshsJ2An1mG",
        "outputId": "7cd6d1f9-b81d-44dc-bcca-5eb92db0cc96"
      },
      "execution_count": 18,
      "outputs": [
        {
          "output_type": "stream",
          "name": "stdout",
          "text": [
            "5\n"
          ]
        }
      ]
    },
    {
      "cell_type": "code",
      "source": [
        "# 14. Write a code to find the index of the element \"cat\" in the tuple ('dog', 'cat', 'rabbit')\n",
        "tuple=('Dog','cat','rabbit')\n",
        "print(tuple.index('cat'))"
      ],
      "metadata": {
        "colab": {
          "base_uri": "https://localhost:8080/"
        },
        "id": "QV48-hIqoVqe",
        "outputId": "c5c1dc2c-8988-4eea-d7f6-c211d2e8cc7d"
      },
      "execution_count": 20,
      "outputs": [
        {
          "output_type": "stream",
          "name": "stdout",
          "text": [
            "1\n"
          ]
        }
      ]
    },
    {
      "cell_type": "code",
      "source": [
        "#15.  Write a code to create a tuple containing three different fruits and check if \"kiwi\" is in it.\n",
        "fruits=('banana','apple','orange')\n",
        "if \"kiwi\" in fruits:\n",
        "  print(\"Kiwi in fruits\")\n",
        "else :\n",
        "  print(\"Kiwi is not fruits\")"
      ],
      "metadata": {
        "colab": {
          "base_uri": "https://localhost:8080/"
        },
        "id": "sMbWs9Mpo_M-",
        "outputId": "d4b1477c-c2ba-4bae-cdb7-3c0a8fe806e6"
      },
      "execution_count": 28,
      "outputs": [
        {
          "output_type": "stream",
          "name": "stdout",
          "text": [
            "Kiwi is not fruits\n"
          ]
        }
      ]
    },
    {
      "cell_type": "code",
      "source": [
        "#16. Write a code to create a set with the elements 'a', 'b', 'c' and print it.\n",
        "set={'a','b','c'}\n",
        "print(set)"
      ],
      "metadata": {
        "colab": {
          "base_uri": "https://localhost:8080/"
        },
        "id": "TsApNxZiBFL_",
        "outputId": "9dc9087a-d355-412d-8354-afc33708ef82"
      },
      "execution_count": 5,
      "outputs": [
        {
          "output_type": "stream",
          "name": "stdout",
          "text": [
            "{'b', 'c', 'a'}\n"
          ]
        }
      ]
    },
    {
      "cell_type": "code",
      "source": [
        "#17. Write a code to clear all elements from the set {1, 2, 3, 4, 5}.\n",
        "set={1,2,3,4,5}\n",
        "set.clear()\n",
        "print(set)"
      ],
      "metadata": {
        "colab": {
          "base_uri": "https://localhost:8080/"
        },
        "id": "YnGge8GzCZ1c",
        "outputId": "879604d9-b52e-4afa-dc24-da3fcd74d6f4"
      },
      "execution_count": 6,
      "outputs": [
        {
          "output_type": "stream",
          "name": "stdout",
          "text": [
            "set()\n"
          ]
        }
      ]
    },
    {
      "cell_type": "code",
      "source": [
        "#18.  Write a code to remove the element 4 from the set {1, 2, 3, 4}.\n",
        "set={1,2,3,4}\n",
        "set.remove(4)\n",
        "print(set)"
      ],
      "metadata": {
        "colab": {
          "base_uri": "https://localhost:8080/"
        },
        "id": "rFfW-IRhCrJz",
        "outputId": "73e161aa-aa2c-4f71-8f81-b91c7bb68568"
      },
      "execution_count": 7,
      "outputs": [
        {
          "output_type": "stream",
          "name": "stdout",
          "text": [
            "{1, 2, 3}\n"
          ]
        }
      ]
    },
    {
      "cell_type": "code",
      "source": [
        "#19. Write a code to find the union of two sets {1, 2, 3} and {3, 4, 5}.\n",
        "set1={1,2,3}\n",
        "set2={3,4,5}\n",
        "print(set1.union(set2))"
      ],
      "metadata": {
        "colab": {
          "base_uri": "https://localhost:8080/"
        },
        "id": "D3nLT5vFDMXS",
        "outputId": "8ed85d09-e448-43c9-ab37-6265e5a4e775"
      },
      "execution_count": 8,
      "outputs": [
        {
          "output_type": "stream",
          "name": "stdout",
          "text": [
            "{1, 2, 3, 4, 5}\n"
          ]
        }
      ]
    },
    {
      "cell_type": "code",
      "source": [
        "#20.  Write a code to find the intersection of two sets {1, 2, 3} and {2, 3, 4}.\n",
        "set1={1,2,3}\n",
        "set2={2,3,4}\n",
        "print(set1.intersection(set2))"
      ],
      "metadata": {
        "colab": {
          "base_uri": "https://localhost:8080/"
        },
        "id": "MotOKoXDDZP2",
        "outputId": "e16830df-3574-42be-f24b-522a36bc7ace"
      },
      "execution_count": 9,
      "outputs": [
        {
          "output_type": "stream",
          "name": "stdout",
          "text": [
            "{2, 3}\n"
          ]
        }
      ]
    },
    {
      "cell_type": "code",
      "source": [
        "#21. Write a code to create a dictionary with the keys \"name\", \"age\", and \"city\", and print it.\n",
        "dict={\"name\":\"Bhawna\",\"age\":20,\"city\":\"Delhi\"}\n",
        "print(dict)"
      ],
      "metadata": {
        "colab": {
          "base_uri": "https://localhost:8080/"
        },
        "id": "jUbdvT4FDiVl",
        "outputId": "2817c45a-db19-4c43-9d7a-6dd229713170"
      },
      "execution_count": 10,
      "outputs": [
        {
          "output_type": "stream",
          "name": "stdout",
          "text": [
            "{'name': 'Bhawna', 'age': 20, 'city': 'Delhi'}\n"
          ]
        }
      ]
    },
    {
      "cell_type": "code",
      "source": [
        "#22. Write a code to add a new key-value pair \"country\": \"USA\" to the dictionary {'name': 'John', 'age': 25}.\n",
        "dict={'name':'John','age':25}\n",
        "dict[\"country\"]=\"USA\"\n",
        "print(dict)"
      ],
      "metadata": {
        "colab": {
          "base_uri": "https://localhost:8080/"
        },
        "id": "mSlxp_yEDwHd",
        "outputId": "b4c9cb19-2376-49ea-c067-6ae7aed9b0a3"
      },
      "execution_count": 13,
      "outputs": [
        {
          "output_type": "stream",
          "name": "stdout",
          "text": [
            "{'name': 'John', 'age': 25, 'country': 'USA'}\n"
          ]
        }
      ]
    },
    {
      "cell_type": "code",
      "source": [
        "#23.  Write a code to access the value associated with the key \"name\" in the dictionary {'name': 'Alice', 'age': 30}.\n",
        "dict={'name':'Alice','age':30}\n",
        "print(dict[\"name\"])"
      ],
      "metadata": {
        "colab": {
          "base_uri": "https://localhost:8080/"
        },
        "id": "ax8cEPShFqVi",
        "outputId": "2994bf79-5917-422d-8c3b-aafcef5913d4"
      },
      "execution_count": 14,
      "outputs": [
        {
          "output_type": "stream",
          "name": "stdout",
          "text": [
            "Alice\n"
          ]
        }
      ]
    },
    {
      "cell_type": "code",
      "source": [
        "#24.Write a code to remove the key \"age\" from the dictionary {'name': 'Bob', 'age': 22, 'city': 'New York'}.\n",
        "dict={'name':'Bob','age':22,'city':'New York'}\n",
        "dict.pop(\"age\")\n",
        "print(dict)\n"
      ],
      "metadata": {
        "colab": {
          "base_uri": "https://localhost:8080/"
        },
        "id": "Y4KHIcvDF5_X",
        "outputId": "ec65f025-db4d-440b-c4d2-a71812a4466f"
      },
      "execution_count": 15,
      "outputs": [
        {
          "output_type": "stream",
          "name": "stdout",
          "text": [
            "{'name': 'Bob', 'city': 'New York'}\n"
          ]
        }
      ]
    },
    {
      "cell_type": "code",
      "source": [
        "#25. Write a code to check if the key \"city\" exists in the dictionary {'name': 'Alice', 'city': 'Paris'}.\n",
        "dict={'name':'Alice','city':'Paris'}\n",
        "if \"city\" in dict:\n",
        "  print(\"City exists\")\n",
        "else:\n",
        "  print(\"City does not exist\")"
      ],
      "metadata": {
        "colab": {
          "base_uri": "https://localhost:8080/"
        },
        "id": "as9Mq26TGE8a",
        "outputId": "28143609-6c27-489b-9390-576d3f0a6788"
      },
      "execution_count": 16,
      "outputs": [
        {
          "output_type": "stream",
          "name": "stdout",
          "text": [
            "City exists\n"
          ]
        }
      ]
    },
    {
      "cell_type": "code",
      "source": [
        "#Write a code to create a list, a tuple, and a dictionary, and print them all.\n",
        "list=[1,2,3,4]\n",
        "print(list)\n",
        "tuple=(1,2,3,4)\n",
        "print(tuple)\n",
        "dict={\"name\":\"Bhawna\",\"age\":20,\"city\":\"Delhi\"}\n",
        "print(dict)"
      ],
      "metadata": {
        "colab": {
          "base_uri": "https://localhost:8080/"
        },
        "id": "ElO2Qh2dGRo_",
        "outputId": "9886e56a-1094-4c4c-ff11-9a91e65ab6b2"
      },
      "execution_count": 17,
      "outputs": [
        {
          "output_type": "stream",
          "name": "stdout",
          "text": [
            "[1, 2, 3, 4]\n",
            "(1, 2, 3, 4)\n",
            "{'name': 'Bhawna', 'age': 20, 'city': 'Delhi'}\n"
          ]
        }
      ]
    },
    {
      "cell_type": "code",
      "source": [
        "# Write a code to create a list of 5 random numbers between 1 and 100, sort it in ascending order, and print  the result.(replaced).\n",
        "import random\n",
        "list=[]\n",
        "for i in range(5):\n",
        "  list.append(random.randint(1,100))\n",
        "list.sort()\n",
        "print(list)\n",
        "\n"
      ],
      "metadata": {
        "colab": {
          "base_uri": "https://localhost:8080/"
        },
        "id": "6NXDyMhIGb5P",
        "outputId": "4f788cb4-ecc6-4529-df23-d121185f9feb"
      },
      "execution_count": 18,
      "outputs": [
        {
          "output_type": "stream",
          "name": "stdout",
          "text": [
            "[26, 48, 61, 83, 86]\n"
          ]
        }
      ]
    },
    {
      "cell_type": "code",
      "source": [
        "#28.Write a code to create a list with strings and print the element at the third index.\n",
        "list=[\"apple\",\"banana\",\"orange\",\"kiwi\"]\n",
        "print(list[2])\n"
      ],
      "metadata": {
        "colab": {
          "base_uri": "https://localhost:8080/"
        },
        "id": "4ryEoLlEGv5E",
        "outputId": "a212ee7f-5de4-4b26-a3d3-71953fa0e394"
      },
      "execution_count": 19,
      "outputs": [
        {
          "output_type": "stream",
          "name": "stdout",
          "text": [
            "orange\n"
          ]
        }
      ]
    },
    {
      "cell_type": "code",
      "source": [
        "#29. Write a code to combine two dictionaries into one and print the result.\n",
        "dict1={\"name\":\"Bhawna\",\"age\":20}\n",
        "dict2={\"city\":\"Delhi\",\"country\":\"India\"}\n",
        "dict1.update(dict2)\n",
        "print(dict1)"
      ],
      "metadata": {
        "colab": {
          "base_uri": "https://localhost:8080/"
        },
        "id": "83d3xVe2G5Wj",
        "outputId": "0b74bd12-6562-4699-b03b-4ff1b734b364"
      },
      "execution_count": 20,
      "outputs": [
        {
          "output_type": "stream",
          "name": "stdout",
          "text": [
            "{'name': 'Bhawna', 'age': 20, 'city': 'Delhi', 'country': 'India'}\n"
          ]
        }
      ]
    },
    {
      "cell_type": "code",
      "source": [
        "#30. Write a code to convert a list of strings into a set.\n",
        "list=[\"apple\",\"banana\",\"orange\",\"kiwi\"]\n",
        "set=(list)\n",
        "print(set)"
      ],
      "metadata": {
        "colab": {
          "base_uri": "https://localhost:8080/"
        },
        "id": "ob6zPOxlHG_b",
        "outputId": "8214ff97-ecfe-49e1-d8fb-ae7d7e7c0e18"
      },
      "execution_count": 22,
      "outputs": [
        {
          "output_type": "stream",
          "name": "stdout",
          "text": [
            "['apple', 'banana', 'orange', 'kiwi']\n"
          ]
        }
      ]
    }
  ]
}